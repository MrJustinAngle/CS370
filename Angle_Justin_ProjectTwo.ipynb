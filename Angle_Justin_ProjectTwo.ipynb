{
 "cells": [
  {
   "cell_type": "markdown",
   "metadata": {},
   "source": [
    "# Treasure Hunt Game Notebook\n",
    "\n",
    "## Read and Review Your Starter Code\n",
    "The theme of this project is a popular treasure hunt game in which the player needs to find the treasure before the pirate does. While you will not be developing the entire game, you will write the part of the game that represents the intelligent agent, which is a pirate in this case. The pirate will try to find the optimal path to the treasure using deep Q-learning. \n",
    "\n",
    "You have been provided with two Python classes and this notebook to help you with this assignment. The first class, TreasureMaze.py, represents the environment, which includes a maze object defined as a matrix. The second class, GameExperience.py, stores the episodes – that is, all the states that come in between the initial state and the terminal state. This is later used by the agent for learning by experience, called \"exploration\". This notebook shows how to play a game. Your task is to complete the deep Q-learning implementation for which a skeleton implementation has been provided. The code blocks you will need to complete has #TODO as a header.\n",
    "\n",
    "First, read and review the next few code and instruction blocks to understand the code that you have been given."
   ]
  },
  {
   "cell_type": "code",
   "execution_count": 45,
   "metadata": {},
   "outputs": [],
   "source": [
    "from __future__ import print_function\n",
    "import os, sys, time, datetime, json, random\n",
    "import numpy as np\n",
    "from keras.models import Sequential\n",
    "from keras.layers.core import Dense, Activation\n",
    "from keras.optimizers import SGD , Adam, RMSprop\n",
    "from keras.layers.advanced_activations import PReLU\n",
    "import matplotlib.pyplot as plt\n",
    "from TreasureMaze import TreasureMaze\n",
    "from GameExperience import GameExperience\n",
    "%matplotlib inline"
   ]
  },
  {
   "cell_type": "markdown",
   "metadata": {},
   "source": [
    "The following code block contains an 8x8 matrix that will be used as a maze object:"
   ]
  },
  {
   "cell_type": "code",
   "execution_count": 46,
   "metadata": {},
   "outputs": [],
   "source": [
    "maze = np.array([\n",
    "    [ 1.,  0.,  1.,  1.,  1.,  1.,  1.,  1.],\n",
    "    [ 1.,  0.,  1.,  1.,  1.,  0.,  1.,  1.],\n",
    "    [ 1.,  1.,  1.,  1.,  0.,  1.,  0.,  1.],\n",
    "    [ 1.,  1.,  1.,  0.,  1.,  1.,  1.,  1.],\n",
    "    [ 1.,  1.,  0.,  1.,  1.,  1.,  1.,  1.],\n",
    "    [ 1.,  1.,  1.,  0.,  1.,  0.,  0.,  0.],\n",
    "    [ 1.,  1.,  1.,  0.,  1.,  1.,  1.,  1.],\n",
    "    [ 1.,  1.,  1.,  1.,  0.,  1.,  1.,  1.]\n",
    "])"
   ]
  },
  {
   "cell_type": "markdown",
   "metadata": {},
   "source": [
    "This helper function allows a visual representation of the maze object:"
   ]
  },
  {
   "cell_type": "code",
   "execution_count": 47,
   "metadata": {},
   "outputs": [],
   "source": [
    "def show(qmaze):\n",
    "    plt.grid('on')\n",
    "    nrows, ncols = qmaze.maze.shape\n",
    "    ax = plt.gca()\n",
    "    ax.set_xticks(np.arange(0.5, nrows, 1))\n",
    "    ax.set_yticks(np.arange(0.5, ncols, 1))\n",
    "    ax.set_xticklabels([])\n",
    "    ax.set_yticklabels([])\n",
    "    canvas = np.copy(qmaze.maze)\n",
    "    for row,col in qmaze.visited:\n",
    "        canvas[row,col] = 0.6\n",
    "    pirate_row, pirate_col, _ = qmaze.state\n",
    "    canvas[pirate_row, pirate_col] = 0.3   # pirate cell\n",
    "    canvas[nrows-1, ncols-1] = 0.9 # treasure cell\n",
    "    img = plt.imshow(canvas, interpolation='none', cmap='gray')\n",
    "    return img"
   ]
  },
  {
   "cell_type": "markdown",
   "metadata": {},
   "source": [
    "The pirate agent can move in four directions: left, right, up, and down. \n",
    "\n",
    "While the agent primarily learns by experience through exploitation, often, the agent can choose to explore the environment to find previously undiscovered paths. This is called \"exploration\" and is defined by epsilon. This value is typically a lower value such as 0.1, which means for every ten attempts, the agent will attempt to learn by experience nine times and will randomly explore a new path one time. You are encouraged to try various values for the exploration factor and see how the algorithm performs."
   ]
  },
  {
   "cell_type": "code",
   "execution_count": 48,
   "metadata": {},
   "outputs": [],
   "source": [
    "LEFT = 0\n",
    "UP = 1\n",
    "RIGHT = 2\n",
    "DOWN = 3\n",
    "\n",
    "\n",
    "# Exploration factor\n",
    "epsilon = 0.1\n",
    "\n",
    "# Actions dictionary\n",
    "actions_dict = {\n",
    "    LEFT: 'left',\n",
    "    UP: 'up',\n",
    "    RIGHT: 'right',\n",
    "    DOWN: 'down',\n",
    "}\n",
    "\n",
    "num_actions = len(actions_dict)\n"
   ]
  },
  {
   "cell_type": "markdown",
   "metadata": {},
   "source": [
    "The sample code block and output below show creating a maze object and performing one action (DOWN), which returns the reward. The resulting updated environment is visualized."
   ]
  },
  {
   "cell_type": "code",
   "execution_count": 49,
   "metadata": {},
   "outputs": [
    {
     "name": "stdout",
     "output_type": "stream",
     "text": [
      "reward= -0.04\n"
     ]
    },
    {
     "data": {
      "text/plain": [
       "<matplotlib.image.AxesImage at 0x2773e166d48>"
      ]
     },
     "execution_count": 49,
     "metadata": {},
     "output_type": "execute_result"
    },
    {
     "data": {
      "image/png": "[encoded data removed]",
      "text/plain": [
       "<Figure size 432x288 with 1 Axes>"
      ]
     },
     "metadata": {
      "needs_background": "light"
     },
     "output_type": "display_data"
    }
   ],
   "source": [
    "qmaze = TreasureMaze(maze)\n",
    "canvas, reward, game_over = qmaze.act(DOWN)\n",
    "print(\"reward=\", reward)\n",
    "show(qmaze)"
   ]
  },
  {
   "cell_type": "markdown",
   "metadata": {},
   "source": [
    "This function simulates a full game based on the provided trained model. The other parameters include the TreasureMaze object and the starting position of the pirate."
   ]
  },
  {
   "cell_type": "code",
   "execution_count": 50,
   "metadata": {},
   "outputs": [],
   "source": [
    "def play_game(model, qmaze, pirate_cell):\n",
    "    qmaze.reset(pirate_cell)\n",
    "    envstate = qmaze.observe()\n",
    "    while True:\n",
    "        prev_envstate = envstate\n",
    "        # get next action\n",
    "        q = model.predict(prev_envstate)\n",
    "        action = np.argmax(q[0])\n",
    "\n",
    "        # apply action, get rewards and new state\n",
    "        envstate, reward, game_status = qmaze.act(action)\n",
    "        if game_status == 'win':\n",
    "            return True\n",
    "        elif game_status == 'lose':\n",
    "            return False"
   ]
  },
  {
   "cell_type": "markdown",
   "metadata": {},
   "source": [
    "This function helps you to determine whether the pirate can win any game at all. If your maze is not well designed, the pirate may not win any game at all. In this case, your training would not yield any result. The provided maze in this notebook ensures that there is a path to win and you can run this method to check."
   ]
  },
  {
   "cell_type": "code",
   "execution_count": 51,
   "metadata": {},
   "outputs": [],
   "source": [
    "def completion_check(model, qmaze):\n",
    "    for cell in qmaze.free_cells:\n",
    "        if not qmaze.valid_actions(cell):\n",
    "            return False\n",
    "        if not play_game(model, qmaze, cell):\n",
    "            return False\n",
    "    return True"
   ]
  },
  {
   "cell_type": "markdown",
   "metadata": {},
   "source": [
    "The code you have been given in this block will build the neural network model. Review the code and note the number of layers, as well as the activation, optimizer, and loss functions that are used to train the model."
   ]
  },
  {
   "cell_type": "code",
   "execution_count": 52,
   "metadata": {},
   "outputs": [],
   "source": [
    "def build_model(maze):\n",
    "    model = Sequential()\n",
    "    model.add(Dense(maze.size, input_shape=(maze.size,)))\n",
    "    model.add(PReLU())\n",
    "    model.add(Dense(maze.size))\n",
    "    model.add(PReLU())\n",
    "    model.add(Dense(num_actions))\n",
    "    model.compile(optimizer='adam', loss='mse')\n",
    "    return model"
   ]
  },
  {
   "cell_type": "markdown",
   "metadata": {},
   "source": [
    "# #TODO: Complete the Q-Training Algorithm Code Block\n",
    "\n",
    "This is your deep Q-learning implementation. The goal of your deep Q-learning implementation is to find the best possible navigation sequence that results in reaching the treasure cell while maximizing the reward. In your implementation, you need to determine the optimal number of epochs to achieve a 100% win rate.\n",
    "\n",
    "You will need to complete the section starting with #pseudocode. The pseudocode has been included for you."
   ]
  },
  {
   "cell_type": "code",
   "execution_count": 53,
   "metadata": {},
   "outputs": [],
   "source": [
    "def qtrain(model, maze, **opt):\n",
    "\n",
    "    # exploration factor\n",
    "    global epsilon \n",
    "\n",
    "    # number of epochs\n",
    "    n_epoch = opt.get('n_epoch', 15000)\n",
    "\n",
    "    # maximum memory to store episodes\n",
    "    max_memory = opt.get('max_memory', 1000)\n",
    "\n",
    "    # maximum data size for training\n",
    "    data_size = opt.get('data_size', 50)\n",
    "\n",
    "    # start time\n",
    "    start_time = datetime.datetime.now()\n",
    "\n",
    "    # Construct environment/game from numpy array: maze (see above)\n",
    "    qmaze = TreasureMaze(maze)\n",
    "\n",
    "    # Initialize experience replay object\n",
    "    experience = GameExperience(model, max_memory=max_memory)\n",
    "    \n",
    "    win_history = []   # history of win/lose game\n",
    "    hsize = qmaze.maze.size//2   # history window size\n",
    "    win_rate = 0.0\n",
    "    \n",
    "    # pseudocode:\n",
    "    # For each epoch:\n",
    "    #    Agent_cell = randomly select a free cell\n",
    "    #    Reset the maze with agent set to above position\n",
    "    #    Hint: Review the reset method in the TreasureMaze.py class.\n",
    "    #    envstate = Environment.current_state\n",
    "    #    Hint: Review the observe method in the TreasureMaze.py class.\n",
    "    #    While state is not game over:\n",
    "    #        previous_envstate = envstate\n",
    "    #        Action = randomly choose action (left, right, up, down) either by exploration or by exploitation\n",
    "    #        envstate, reward, game_status = qmaze.act(action)\n",
    "    #    Hint: Review the act method in the TreasureMaze.py class.\n",
    "    #        episode = [previous_envstate, action, reward, envstate, game_status]\n",
    "    #        Store episode in Experience replay object\n",
    "    #    Hint: Review the remember method in the GameExperience.py class.\n",
    "    #        Train neural network model and evaluate loss\n",
    "    #    Hint: Call GameExperience.get_data to retrieve training data (input and target) and pass to model.fit method \n",
    "    #          to train the model. You can call model.evaluate to determine loss.\n",
    "    #    If the win rate is above the threshold and your model passes the completion check, that would be your epoch.\n",
    "    \n",
    "    # My code starts\n",
    "    n_episodes = 0 #counter variable\n",
    "    loss = 0.0#variable for loss\n",
    "    \n",
    "    for epoch in range(n_epoch):\n",
    "        # reset to a random free cell\n",
    "        agent_cell = qmaze.free_cells[np.random.randint(len(qmaze.free_cells))]\n",
    "        qmaze.reset(agent_cell) #reseting to above position\n",
    "        envstate = qmaze.observe() #environment current state\n",
    "        \n",
    "        while True: #while game is not over\n",
    "            previous_envstate = envstate #saving the envstate\n",
    "            \n",
    "            if np.random.rand() <= epsilon:\n",
    "                action = np.random.choice([LEFT, UP, RIGHT, DOWN]) #exploring a random action\n",
    "            else:\n",
    "                q_values = model.predict(previous_envstate)\n",
    "                action = np.argmax(q_values[0]) # exploiting, choosing the action with max value\n",
    "            envstate, reward, game_status = qmaze.act(action) #observe environment and action\n",
    "            episode = [previous_envstate, action, reward, envstate, game_status]\n",
    "            experience.remember(episode) #sore the episode\n",
    "            # training the model and evaluate loss\n",
    "            inputs, targets = experience.get_data(data_size = data_size)\n",
    "            \n",
    "            if inputs is not None:\n",
    "                # fit the model\n",
    "                loss += model.train_on_batch(inputs, targets)\n",
    "            \n",
    "            # adding up on the counter\n",
    "            n_episodes += 1\n",
    "            \n",
    "            # checking if the game is over\n",
    "            if game_status == \"win\":\n",
    "                win_history.append(1) #append to history\n",
    "                win_rate = sum(win_history[-hsize:]) / hsize #calculate the win rate\n",
    "                break\n",
    "            elif game_status == \"lose\":\n",
    "                win_history.append(0) #append to history\n",
    "                win_rate = sum(win_history[-hsize:]) / hsize #calculate the win rate\n",
    "                break\n",
    "                \n",
    "\n",
    "\n",
    "    #Print the epoch, loss, episodes, win count, and win rate for each epoch\n",
    "        dt = datetime.datetime.now() - start_time\n",
    "        t = format_time(dt.total_seconds())\n",
    "        template = \"Epoch: {:03d}/{:d} | Loss: {:.4f} | Episodes: {:d} | Win count: {:d} | Win rate: {:.3f} | time: {}\"\n",
    "        print(template.format(epoch, n_epoch-1, loss, n_episodes, sum(win_history), win_rate, t))\n",
    "        # We simply check if training has exhausted all free cells and if in all\n",
    "        # cases the agent won.\n",
    "        if win_rate > 0.9 : \n",
    "            epsilon = 0.05\n",
    "        \n",
    "        if win_rate > 0.9 and completion_check(model, qmaze):\n",
    "            print(\"Reached 100%% win rate at epoch: %d\" % (epoch,))\n",
    "            break\n",
    "    \n",
    "    \n",
    "    # Determine the total time for training\n",
    "    dt = datetime.datetime.now() - start_time\n",
    "    seconds = dt.total_seconds()\n",
    "    t = format_time(seconds)\n",
    "\n",
    "    print(\"n_epoch: %d, max_mem: %d, data: %d, time: %s\" % (epoch, max_memory, data_size, t))\n",
    "    return seconds\n",
    "\n",
    "# This is a small utility for printing readable time strings:\n",
    "def format_time(seconds):\n",
    "    if seconds < 400:\n",
    "        s = float(seconds)\n",
    "        return \"%.1f seconds\" % (s,)\n",
    "    elif seconds < 4000:\n",
    "        m = seconds / 60.0\n",
    "        return \"%.2f minutes\" % (m,)\n",
    "    else:\n",
    "        h = seconds / 3600.0\n",
    "        return \"%.2f hours\" % (h,)"
   ]
  },
  {
   "cell_type": "markdown",
   "metadata": {},
   "source": [
    "## Test Your Model\n",
    "\n",
    "Now we will start testing the deep Q-learning implementation. To begin, select **Cell**, then **Run All** from the menu bar. This will run your notebook. As it runs, you should see output begin to appear beneath the next few cells. The code below creates an instance of TreasureMaze."
   ]
  },
  {
   "cell_type": "code",
   "execution_count": 54,
   "metadata": {},
   "outputs": [
    {
     "data": {
      "text/plain": [
       "<matplotlib.image.AxesImage at 0x2773e9b2388>"
      ]
     },
     "execution_count": 54,
     "metadata": {},
     "output_type": "execute_result"
    },
    {
     "data": {
      "image/png": "[encoded data removed]",
      "text/plain": [
       "<Figure size 432x288 with 1 Axes>"
      ]
     },
     "metadata": {
      "needs_background": "light"
     },
     "output_type": "display_data"
    }
   ],
   "source": [
    "qmaze = TreasureMaze(maze)\n",
    "show(qmaze)"
   ]
  },
  {
   "cell_type": "markdown",
   "metadata": {},
   "source": [
    "In the next code block, you will build your model and train it using deep Q-learning. Note: This step takes several minutes to fully run."
   ]
  },
  {
   "cell_type": "code",
   "execution_count": 55,
   "metadata": {},
   "outputs": [
    {
     "name": "stdout",
     "output_type": "stream",
     "text": [
      "Epoch: 000/14999 | Loss: 1.3311 | Episodes: 139 | Win count: 0 | Win rate: 0.000 | time: 12.2 seconds\n",
      "Epoch: 001/14999 | Loss: 1.4783 | Episodes: 273 | Win count: 0 | Win rate: 0.000 | time: 24.1 seconds\n",
      "Epoch: 002/14999 | Loss: 1.5007 | Episodes: 298 | Win count: 1 | Win rate: 0.031 | time: 26.3 seconds\n",
      "Epoch: 003/14999 | Loss: 1.7810 | Episodes: 434 | Win count: 1 | Win rate: 0.031 | time: 38.4 seconds\n",
      "Epoch: 004/14999 | Loss: 2.0321 | Episodes: 578 | Win count: 1 | Win rate: 0.031 | time: 50.7 seconds\n",
      "Epoch: 005/14999 | Loss: 2.0371 | Episodes: 582 | Win count: 2 | Win rate: 0.062 | time: 51.0 seconds\n",
      "Epoch: 006/14999 | Loss: 2.4387 | Episodes: 727 | Win count: 2 | Win rate: 0.062 | time: 66.2 seconds\n",
      "Epoch: 007/14999 | Loss: 2.7441 | Episodes: 861 | Win count: 2 | Win rate: 0.062 | time: 82.5 seconds\n",
      "Epoch: 008/14999 | Loss: 3.0381 | Episodes: 1000 | Win count: 2 | Win rate: 0.062 | time: 98.9 seconds\n",
      "Epoch: 009/14999 | Loss: 3.2231 | Episodes: 1138 | Win count: 2 | Win rate: 0.062 | time: 115.5 seconds\n",
      "Epoch: 010/14999 | Loss: 3.3743 | Episodes: 1282 | Win count: 2 | Win rate: 0.062 | time: 130.7 seconds\n",
      "Epoch: 011/14999 | Loss: 3.4664 | Episodes: 1352 | Win count: 3 | Win rate: 0.094 | time: 136.7 seconds\n",
      "Epoch: 012/14999 | Loss: 3.6479 | Episodes: 1461 | Win count: 4 | Win rate: 0.125 | time: 145.8 seconds\n",
      "Epoch: 013/14999 | Loss: 4.0626 | Episodes: 1596 | Win count: 4 | Win rate: 0.125 | time: 157.9 seconds\n",
      "Epoch: 014/14999 | Loss: 4.4205 | Episodes: 1730 | Win count: 5 | Win rate: 0.156 | time: 170.6 seconds\n",
      "Epoch: 015/14999 | Loss: 4.4908 | Episodes: 1756 | Win count: 6 | Win rate: 0.188 | time: 173.0 seconds\n",
      "Epoch: 016/14999 | Loss: 4.5339 | Episodes: 1772 | Win count: 7 | Win rate: 0.219 | time: 174.5 seconds\n",
      "Epoch: 017/14999 | Loss: 5.0023 | Episodes: 1909 | Win count: 7 | Win rate: 0.219 | time: 187.6 seconds\n",
      "Epoch: 018/14999 | Loss: 5.2938 | Episodes: 2022 | Win count: 8 | Win rate: 0.250 | time: 198.4 seconds\n",
      "Epoch: 019/14999 | Loss: 5.5324 | Episodes: 2156 | Win count: 8 | Win rate: 0.250 | time: 209.9 seconds\n",
      "Epoch: 020/14999 | Loss: 5.5784 | Episodes: 2189 | Win count: 9 | Win rate: 0.281 | time: 212.6 seconds\n",
      "Epoch: 021/14999 | Loss: 5.8556 | Episodes: 2331 | Win count: 9 | Win rate: 0.281 | time: 225.7 seconds\n",
      "Epoch: 022/14999 | Loss: 6.0365 | Episodes: 2473 | Win count: 9 | Win rate: 0.281 | time: 237.8 seconds\n",
      "Epoch: 023/14999 | Loss: 6.2200 | Episodes: 2618 | Win count: 9 | Win rate: 0.281 | time: 250.7 seconds\n",
      "Epoch: 024/14999 | Loss: 6.4156 | Episodes: 2765 | Win count: 9 | Win rate: 0.281 | time: 262.8 seconds\n",
      "Epoch: 025/14999 | Loss: 6.4173 | Episodes: 2766 | Win count: 10 | Win rate: 0.312 | time: 262.9 seconds\n",
      "Epoch: 026/14999 | Loss: 6.5263 | Episodes: 2840 | Win count: 11 | Win rate: 0.344 | time: 269.0 seconds\n",
      "Epoch: 027/14999 | Loss: 6.7223 | Episodes: 2985 | Win count: 11 | Win rate: 0.344 | time: 282.9 seconds\n",
      "Epoch: 028/14999 | Loss: 6.7269 | Episodes: 2988 | Win count: 12 | Win rate: 0.375 | time: 283.2 seconds\n",
      "Epoch: 029/14999 | Loss: 6.7281 | Episodes: 2989 | Win count: 13 | Win rate: 0.406 | time: 283.4 seconds\n",
      "Epoch: 030/14999 | Loss: 7.1053 | Episodes: 3124 | Win count: 13 | Win rate: 0.406 | time: 299.0 seconds\n",
      "Epoch: 031/14999 | Loss: 7.2776 | Episodes: 3192 | Win count: 14 | Win rate: 0.438 | time: 307.0 seconds\n",
      "Epoch: 032/14999 | Loss: 7.6624 | Episodes: 3331 | Win count: 14 | Win rate: 0.438 | time: 320.5 seconds\n",
      "Epoch: 033/14999 | Loss: 7.7068 | Episodes: 3346 | Win count: 15 | Win rate: 0.469 | time: 322.2 seconds\n",
      "Epoch: 034/14999 | Loss: 7.9903 | Episodes: 3482 | Win count: 15 | Win rate: 0.438 | time: 337.1 seconds\n",
      "Epoch: 035/14999 | Loss: 8.0055 | Episodes: 3491 | Win count: 16 | Win rate: 0.469 | time: 338.3 seconds\n",
      "Epoch: 036/14999 | Loss: 8.2728 | Episodes: 3628 | Win count: 16 | Win rate: 0.469 | time: 353.1 seconds\n",
      "Epoch: 037/14999 | Loss: 8.5258 | Episodes: 3775 | Win count: 16 | Win rate: 0.438 | time: 372.7 seconds\n",
      "Epoch: 038/14999 | Loss: 8.7548 | Episodes: 3917 | Win count: 16 | Win rate: 0.438 | time: 392.2 seconds\n",
      "Epoch: 039/14999 | Loss: 8.7885 | Episodes: 3938 | Win count: 17 | Win rate: 0.469 | time: 394.8 seconds\n",
      "Epoch: 040/14999 | Loss: 9.0001 | Episodes: 4076 | Win count: 17 | Win rate: 0.469 | time: 6.90 minutes\n",
      "Epoch: 041/14999 | Loss: 9.1761 | Episodes: 4213 | Win count: 17 | Win rate: 0.469 | time: 7.22 minutes\n",
      "Epoch: 042/14999 | Loss: 9.1835 | Episodes: 4222 | Win count: 18 | Win rate: 0.500 | time: 7.23 minutes\n",
      "Epoch: 043/14999 | Loss: 9.2083 | Episodes: 4240 | Win count: 19 | Win rate: 0.500 | time: 7.27 minutes\n",
      "Epoch: 044/14999 | Loss: 9.4254 | Episodes: 4381 | Win count: 19 | Win rate: 0.469 | time: 7.53 minutes\n",
      "Epoch: 045/14999 | Loss: 9.4354 | Episodes: 4390 | Win count: 20 | Win rate: 0.500 | time: 7.54 minutes\n",
      "Epoch: 046/14999 | Loss: 9.6501 | Episodes: 4535 | Win count: 20 | Win rate: 0.469 | time: 7.83 minutes\n",
      "Epoch: 047/14999 | Loss: 9.6517 | Episodes: 4536 | Win count: 21 | Win rate: 0.469 | time: 7.84 minutes\n",
      "Epoch: 048/14999 | Loss: 9.8505 | Episodes: 4682 | Win count: 21 | Win rate: 0.438 | time: 8.09 minutes\n",
      "Epoch: 049/14999 | Loss: 10.0421 | Episodes: 4819 | Win count: 21 | Win rate: 0.438 | time: 8.34 minutes\n",
      "Epoch: 050/14999 | Loss: 10.2364 | Episodes: 4961 | Win count: 21 | Win rate: 0.406 | time: 8.58 minutes\n",
      "Epoch: 051/14999 | Loss: 10.3833 | Episodes: 5102 | Win count: 21 | Win rate: 0.406 | time: 8.81 minutes\n",
      "Epoch: 052/14999 | Loss: 10.4130 | Episodes: 5142 | Win count: 22 | Win rate: 0.406 | time: 8.88 minutes\n",
      "Epoch: 053/14999 | Loss: 10.4176 | Episodes: 5147 | Win count: 23 | Win rate: 0.438 | time: 8.88 minutes\n",
      "Epoch: 054/14999 | Loss: 10.4448 | Episodes: 5168 | Win count: 24 | Win rate: 0.469 | time: 8.91 minutes\n",
      "Epoch: 055/14999 | Loss: 10.6210 | Episodes: 5312 | Win count: 24 | Win rate: 0.469 | time: 9.17 minutes\n",
      "Epoch: 056/14999 | Loss: 10.7721 | Episodes: 5451 | Win count: 24 | Win rate: 0.469 | time: 9.42 minutes\n",
      "Epoch: 057/14999 | Loss: 10.7814 | Episodes: 5460 | Win count: 25 | Win rate: 0.469 | time: 9.44 minutes\n",
      "Epoch: 058/14999 | Loss: 10.9426 | Episodes: 5602 | Win count: 25 | Win rate: 0.438 | time: 9.68 minutes\n",
      "Epoch: 059/14999 | Loss: 11.1002 | Episodes: 5741 | Win count: 25 | Win rate: 0.438 | time: 9.92 minutes\n",
      "Epoch: 060/14999 | Loss: 11.2188 | Episodes: 5880 | Win count: 25 | Win rate: 0.406 | time: 10.17 minutes\n",
      "Epoch: 061/14999 | Loss: 11.3028 | Episodes: 6011 | Win count: 25 | Win rate: 0.375 | time: 10.43 minutes\n",
      "Epoch: 062/14999 | Loss: 11.3050 | Episodes: 6015 | Win count: 26 | Win rate: 0.406 | time: 10.44 minutes\n",
      "Epoch: 063/14999 | Loss: 11.3067 | Episodes: 6019 | Win count: 27 | Win rate: 0.406 | time: 10.45 minutes\n",
      "Epoch: 064/14999 | Loss: 11.3436 | Episodes: 6082 | Win count: 28 | Win rate: 0.438 | time: 10.56 minutes\n",
      "Epoch: 065/14999 | Loss: 11.4311 | Episodes: 6219 | Win count: 28 | Win rate: 0.406 | time: 10.79 minutes\n",
      "Epoch: 066/14999 | Loss: 11.5272 | Episodes: 6359 | Win count: 28 | Win rate: 0.406 | time: 11.04 minutes\n",
      "Epoch: 067/14999 | Loss: 11.5275 | Episodes: 6360 | Win count: 29 | Win rate: 0.406 | time: 11.04 minutes\n",
      "Epoch: 068/14999 | Loss: 11.6473 | Episodes: 6503 | Win count: 29 | Win rate: 0.406 | time: 11.38 minutes\n",
      "Epoch: 069/14999 | Loss: 11.7882 | Episodes: 6645 | Win count: 29 | Win rate: 0.406 | time: 11.69 minutes\n",
      "Epoch: 070/14999 | Loss: 11.9208 | Episodes: 6784 | Win count: 29 | Win rate: 0.406 | time: 12.01 minutes\n",
      "Epoch: 071/14999 | Loss: 12.0647 | Episodes: 6928 | Win count: 29 | Win rate: 0.375 | time: 12.30 minutes\n",
      "Epoch: 072/14999 | Loss: 12.2053 | Episodes: 7070 | Win count: 29 | Win rate: 0.375 | time: 12.55 minutes\n",
      "Epoch: 073/14999 | Loss: 12.3469 | Episodes: 7216 | Win count: 29 | Win rate: 0.375 | time: 12.82 minutes\n",
      "Epoch: 074/14999 | Loss: 12.4767 | Episodes: 7340 | Win count: 30 | Win rate: 0.375 | time: 13.02 minutes\n",
      "Epoch: 075/14999 | Loss: 12.4785 | Episodes: 7342 | Win count: 31 | Win rate: 0.375 | time: 13.02 minutes\n",
      "Epoch: 076/14999 | Loss: 12.6965 | Episodes: 7485 | Win count: 31 | Win rate: 0.375 | time: 13.26 minutes\n",
      "Epoch: 077/14999 | Loss: 12.6982 | Episodes: 7487 | Win count: 32 | Win rate: 0.375 | time: 13.26 minutes\n",
      "Epoch: 078/14999 | Loss: 12.7715 | Episodes: 7537 | Win count: 33 | Win rate: 0.406 | time: 13.34 minutes\n",
      "Epoch: 079/14999 | Loss: 12.9318 | Episodes: 7671 | Win count: 33 | Win rate: 0.375 | time: 13.53 minutes\n",
      "Epoch: 080/14999 | Loss: 12.9495 | Episodes: 7687 | Win count: 34 | Win rate: 0.406 | time: 13.56 minutes\n",
      "Epoch: 081/14999 | Loss: 13.1388 | Episodes: 7826 | Win count: 34 | Win rate: 0.406 | time: 13.78 minutes\n",
      "Epoch: 082/14999 | Loss: 13.2760 | Episodes: 7962 | Win count: 34 | Win rate: 0.406 | time: 14.00 minutes\n",
      "Epoch: 083/14999 | Loss: 13.3926 | Episodes: 8094 | Win count: 35 | Win rate: 0.438 | time: 14.21 minutes\n",
      "Epoch: 084/14999 | Loss: 13.4185 | Episodes: 8121 | Win count: 36 | Win rate: 0.438 | time: 14.25 minutes\n",
      "Epoch: 085/14999 | Loss: 13.5776 | Episodes: 8262 | Win count: 36 | Win rate: 0.406 | time: 14.46 minutes\n",
      "Epoch: 086/14999 | Loss: 13.6264 | Episodes: 8303 | Win count: 37 | Win rate: 0.406 | time: 14.54 minutes\n",
      "Epoch: 087/14999 | Loss: 13.6563 | Episodes: 8327 | Win count: 38 | Win rate: 0.438 | time: 14.59 minutes\n",
      "Epoch: 088/14999 | Loss: 13.6661 | Episodes: 8335 | Win count: 39 | Win rate: 0.469 | time: 14.60 minutes\n",
      "Epoch: 089/14999 | Loss: 13.6836 | Episodes: 8347 | Win count: 40 | Win rate: 0.469 | time: 14.62 minutes\n",
      "Epoch: 090/14999 | Loss: 13.7114 | Episodes: 8369 | Win count: 41 | Win rate: 0.500 | time: 14.66 minutes\n",
      "Epoch: 091/14999 | Loss: 13.7130 | Episodes: 8370 | Win count: 42 | Win rate: 0.531 | time: 14.66 minutes\n",
      "Epoch: 092/14999 | Loss: 13.7722 | Episodes: 8416 | Win count: 43 | Win rate: 0.562 | time: 14.75 minutes\n",
      "Epoch: 093/14999 | Loss: 13.8187 | Episodes: 8447 | Win count: 44 | Win rate: 0.594 | time: 14.81 minutes\n",
      "Epoch: 094/14999 | Loss: 14.0264 | Episodes: 8587 | Win count: 44 | Win rate: 0.562 | time: 15.04 minutes\n",
      "Epoch: 095/14999 | Loss: 14.1810 | Episodes: 8703 | Win count: 45 | Win rate: 0.562 | time: 15.23 minutes\n",
      "Epoch: 096/14999 | Loss: 14.2302 | Episodes: 8740 | Win count: 46 | Win rate: 0.562 | time: 15.30 minutes\n",
      "Epoch: 097/14999 | Loss: 14.3012 | Episodes: 8782 | Win count: 47 | Win rate: 0.594 | time: 15.37 minutes\n",
      "Epoch: 098/14999 | Loss: 14.4694 | Episodes: 8873 | Win count: 48 | Win rate: 0.625 | time: 15.51 minutes\n",
      "Epoch: 099/14999 | Loss: 14.5304 | Episodes: 8910 | Win count: 49 | Win rate: 0.625 | time: 15.57 minutes\n",
      "Epoch: 100/14999 | Loss: 14.5321 | Episodes: 8911 | Win count: 50 | Win rate: 0.656 | time: 15.58 minutes\n",
      "Epoch: 101/14999 | Loss: 14.7351 | Episodes: 9049 | Win count: 50 | Win rate: 0.656 | time: 15.80 minutes\n",
      "Epoch: 102/14999 | Loss: 14.8037 | Episodes: 9097 | Win count: 51 | Win rate: 0.688 | time: 15.88 minutes\n",
      "Epoch: 103/14999 | Loss: 14.9973 | Episodes: 9239 | Win count: 51 | Win rate: 0.688 | time: 16.18 minutes\n",
      "Epoch: 104/14999 | Loss: 15.1387 | Episodes: 9376 | Win count: 51 | Win rate: 0.688 | time: 16.50 minutes\n",
      "Epoch: 105/14999 | Loss: 15.2463 | Episodes: 9517 | Win count: 51 | Win rate: 0.688 | time: 16.81 minutes\n",
      "Epoch: 106/14999 | Loss: 15.2616 | Episodes: 9536 | Win count: 52 | Win rate: 0.688 | time: 16.85 minutes\n",
      "Epoch: 107/14999 | Loss: 15.2709 | Episodes: 9547 | Win count: 53 | Win rate: 0.688 | time: 16.87 minutes\n",
      "Epoch: 108/14999 | Loss: 15.2777 | Episodes: 9556 | Win count: 54 | Win rate: 0.719 | time: 16.89 minutes\n",
      "Epoch: 109/14999 | Loss: 15.2781 | Episodes: 9557 | Win count: 55 | Win rate: 0.719 | time: 16.89 minutes\n",
      "Epoch: 110/14999 | Loss: 15.3929 | Episodes: 9695 | Win count: 55 | Win rate: 0.688 | time: 17.21 minutes\n",
      "Epoch: 111/14999 | Loss: 15.5361 | Episodes: 9837 | Win count: 55 | Win rate: 0.688 | time: 17.44 minutes\n",
      "Epoch: 112/14999 | Loss: 15.6424 | Episodes: 9972 | Win count: 55 | Win rate: 0.656 | time: 17.65 minutes\n",
      "Epoch: 113/14999 | Loss: 15.6450 | Episodes: 9976 | Win count: 56 | Win rate: 0.688 | time: 17.65 minutes\n",
      "Epoch: 114/14999 | Loss: 15.7549 | Episodes: 10116 | Win count: 56 | Win rate: 0.688 | time: 17.92 minutes\n",
      "Epoch: 115/14999 | Loss: 15.8574 | Episodes: 10255 | Win count: 56 | Win rate: 0.656 | time: 18.22 minutes\n",
      "Epoch: 116/14999 | Loss: 15.9427 | Episodes: 10392 | Win count: 56 | Win rate: 0.625 | time: 18.44 minutes\n",
      "Epoch: 117/14999 | Loss: 16.0166 | Episodes: 10528 | Win count: 56 | Win rate: 0.625 | time: 18.66 minutes\n",
      "Epoch: 118/14999 | Loss: 16.0185 | Episodes: 10533 | Win count: 57 | Win rate: 0.625 | time: 18.67 minutes\n",
      "Epoch: 119/14999 | Loss: 16.0360 | Episodes: 10564 | Win count: 58 | Win rate: 0.625 | time: 18.72 minutes\n",
      "Epoch: 120/14999 | Loss: 16.1272 | Episodes: 10701 | Win count: 58 | Win rate: 0.594 | time: 18.94 minutes\n",
      "Epoch: 121/14999 | Loss: 16.1498 | Episodes: 10740 | Win count: 59 | Win rate: 0.594 | time: 19.00 minutes\n",
      "Epoch: 122/14999 | Loss: 16.1840 | Episodes: 10784 | Win count: 60 | Win rate: 0.594 | time: 19.08 minutes\n",
      "Epoch: 123/14999 | Loss: 16.1870 | Episodes: 10787 | Win count: 61 | Win rate: 0.594 | time: 19.09 minutes\n",
      "Epoch: 124/14999 | Loss: 16.1935 | Episodes: 10797 | Win count: 62 | Win rate: 0.594 | time: 19.11 minutes\n",
      "Epoch: 125/14999 | Loss: 16.2323 | Episodes: 10831 | Win count: 63 | Win rate: 0.594 | time: 19.16 minutes\n",
      "Epoch: 126/14999 | Loss: 16.2859 | Episodes: 10872 | Win count: 64 | Win rate: 0.625 | time: 19.24 minutes\n",
      "Epoch: 127/14999 | Loss: 16.4933 | Episodes: 11014 | Win count: 64 | Win rate: 0.594 | time: 19.46 minutes\n",
      "Epoch: 128/14999 | Loss: 16.6835 | Episodes: 11158 | Win count: 64 | Win rate: 0.562 | time: 19.69 minutes\n",
      "Epoch: 129/14999 | Loss: 16.7197 | Episodes: 11188 | Win count: 65 | Win rate: 0.562 | time: 19.73 minutes\n",
      "Epoch: 130/14999 | Loss: 16.8936 | Episodes: 11328 | Win count: 65 | Win rate: 0.531 | time: 19.96 minutes\n",
      "Epoch: 131/14999 | Loss: 17.0544 | Episodes: 11458 | Win count: 66 | Win rate: 0.531 | time: 20.19 minutes\n",
      "Epoch: 132/14999 | Loss: 17.0752 | Episodes: 11474 | Win count: 67 | Win rate: 0.531 | time: 20.22 minutes\n",
      "Epoch: 133/14999 | Loss: 17.0857 | Episodes: 11484 | Win count: 68 | Win rate: 0.562 | time: 20.24 minutes\n",
      "Epoch: 134/14999 | Loss: 17.2153 | Episodes: 11615 | Win count: 68 | Win rate: 0.531 | time: 20.47 minutes\n",
      "Epoch: 135/14999 | Loss: 17.2299 | Episodes: 11633 | Win count: 69 | Win rate: 0.562 | time: 20.49 minutes\n",
      "Epoch: 136/14999 | Loss: 17.2601 | Episodes: 11667 | Win count: 70 | Win rate: 0.594 | time: 20.55 minutes\n",
      "Epoch: 137/14999 | Loss: 17.2996 | Episodes: 11712 | Win count: 71 | Win rate: 0.625 | time: 20.62 minutes\n",
      "Epoch: 138/14999 | Loss: 17.3019 | Episodes: 11714 | Win count: 72 | Win rate: 0.625 | time: 20.62 minutes\n",
      "Epoch: 139/14999 | Loss: 17.3152 | Episodes: 11727 | Win count: 73 | Win rate: 0.625 | time: 20.64 minutes\n",
      "Epoch: 140/14999 | Loss: 17.3244 | Episodes: 11737 | Win count: 74 | Win rate: 0.625 | time: 20.65 minutes\n",
      "Epoch: 141/14999 | Loss: 17.3623 | Episodes: 11777 | Win count: 75 | Win rate: 0.625 | time: 20.73 minutes\n",
      "Epoch: 142/14999 | Loss: 17.3876 | Episodes: 11802 | Win count: 76 | Win rate: 0.656 | time: 20.77 minutes\n",
      "Epoch: 143/14999 | Loss: 17.4399 | Episodes: 11856 | Win count: 77 | Win rate: 0.688 | time: 20.85 minutes\n",
      "Epoch: 144/14999 | Loss: 17.4625 | Episodes: 11882 | Win count: 78 | Win rate: 0.719 | time: 20.89 minutes\n",
      "Epoch: 145/14999 | Loss: 17.4846 | Episodes: 11912 | Win count: 79 | Win rate: 0.719 | time: 20.94 minutes\n",
      "Epoch: 146/14999 | Loss: 17.5413 | Episodes: 11985 | Win count: 80 | Win rate: 0.750 | time: 21.10 minutes\n",
      "Epoch: 147/14999 | Loss: 17.5624 | Episodes: 12015 | Win count: 81 | Win rate: 0.781 | time: 21.17 minutes\n",
      "Epoch: 148/14999 | Loss: 17.5929 | Episodes: 12047 | Win count: 82 | Win rate: 0.812 | time: 21.25 minutes\n",
      "Epoch: 149/14999 | Loss: 17.5956 | Episodes: 12051 | Win count: 83 | Win rate: 0.844 | time: 21.25 minutes\n",
      "Epoch: 150/14999 | Loss: 17.6146 | Episodes: 12077 | Win count: 84 | Win rate: 0.844 | time: 21.30 minutes\n",
      "Epoch: 151/14999 | Loss: 17.6373 | Episodes: 12103 | Win count: 85 | Win rate: 0.844 | time: 21.36 minutes\n",
      "Epoch: 152/14999 | Loss: 17.6523 | Episodes: 12119 | Win count: 86 | Win rate: 0.875 | time: 21.39 minutes\n",
      "Epoch: 153/14999 | Loss: 17.6796 | Episodes: 12147 | Win count: 87 | Win rate: 0.875 | time: 21.43 minutes\n",
      "Epoch: 154/14999 | Loss: 17.6975 | Episodes: 12172 | Win count: 88 | Win rate: 0.875 | time: 21.47 minutes\n",
      "Epoch: 155/14999 | Loss: 17.7194 | Episodes: 12195 | Win count: 89 | Win rate: 0.875 | time: 21.51 minutes\n",
      "Epoch: 156/14999 | Loss: 17.7425 | Episodes: 12217 | Win count: 90 | Win rate: 0.875 | time: 21.54 minutes\n",
      "Epoch: 157/14999 | Loss: 17.7552 | Episodes: 12232 | Win count: 91 | Win rate: 0.875 | time: 21.56 minutes\n",
      "Epoch: 158/14999 | Loss: 17.7898 | Episodes: 12260 | Win count: 92 | Win rate: 0.875 | time: 21.60 minutes\n",
      "Epoch: 159/14999 | Loss: 17.7977 | Episodes: 12268 | Win count: 93 | Win rate: 0.906 | time: 21.61 minutes\n",
      "Epoch: 160/14999 | Loss: 17.8201 | Episodes: 12294 | Win count: 94 | Win rate: 0.938 | time: 21.66 minutes\n",
      "Epoch: 161/14999 | Loss: 17.8287 | Episodes: 12305 | Win count: 95 | Win rate: 0.938 | time: 21.68 minutes\n",
      "Epoch: 162/14999 | Loss: 17.8350 | Episodes: 12315 | Win count: 96 | Win rate: 0.969 | time: 21.70 minutes\n",
      "Epoch: 163/14999 | Loss: 17.8561 | Episodes: 12343 | Win count: 97 | Win rate: 0.969 | time: 21.75 minutes\n",
      "Epoch: 164/14999 | Loss: 17.8680 | Episodes: 12359 | Win count: 98 | Win rate: 0.969 | time: 21.78 minutes\n",
      "Epoch: 165/14999 | Loss: 17.8810 | Episodes: 12380 | Win count: 99 | Win rate: 0.969 | time: 21.81 minutes\n",
      "Epoch: 166/14999 | Loss: 17.8906 | Episodes: 12394 | Win count: 100 | Win rate: 1.000 | time: 21.83 minutes\n",
      "Epoch: 167/14999 | Loss: 17.9109 | Episodes: 12423 | Win count: 101 | Win rate: 1.000 | time: 21.89 minutes\n",
      "Epoch: 168/14999 | Loss: 18.0069 | Episodes: 12540 | Win count: 102 | Win rate: 1.000 | time: 22.04 minutes\n",
      "Epoch: 169/14999 | Loss: 18.0395 | Episodes: 12581 | Win count: 103 | Win rate: 1.000 | time: 22.10 minutes\n",
      "Epoch: 170/14999 | Loss: 18.0473 | Episodes: 12591 | Win count: 104 | Win rate: 1.000 | time: 22.12 minutes\n",
      "Epoch: 171/14999 | Loss: 18.0711 | Episodes: 12621 | Win count: 105 | Win rate: 1.000 | time: 22.17 minutes\n",
      "Epoch: 172/14999 | Loss: 18.0763 | Episodes: 12627 | Win count: 106 | Win rate: 1.000 | time: 22.19 minutes\n",
      "Epoch: 173/14999 | Loss: 18.0784 | Episodes: 12629 | Win count: 107 | Win rate: 1.000 | time: 22.20 minutes\n",
      "Epoch: 174/14999 | Loss: 18.1002 | Episodes: 12658 | Win count: 108 | Win rate: 1.000 | time: 22.25 minutes\n",
      "Epoch: 175/14999 | Loss: 18.1206 | Episodes: 12684 | Win count: 109 | Win rate: 1.000 | time: 22.30 minutes\n",
      "Epoch: 176/14999 | Loss: 18.1268 | Episodes: 12693 | Win count: 110 | Win rate: 1.000 | time: 22.32 minutes\n",
      "Epoch: 177/14999 | Loss: 18.1355 | Episodes: 12702 | Win count: 111 | Win rate: 1.000 | time: 22.33 minutes\n",
      "Epoch: 178/14999 | Loss: 18.1613 | Episodes: 12729 | Win count: 112 | Win rate: 1.000 | time: 22.38 minutes\n",
      "Epoch: 179/14999 | Loss: 18.2105 | Episodes: 12781 | Win count: 113 | Win rate: 1.000 | time: 22.45 minutes\n",
      "Epoch: 180/14999 | Loss: 18.2172 | Episodes: 12791 | Win count: 114 | Win rate: 1.000 | time: 22.47 minutes\n",
      "Epoch: 181/14999 | Loss: 18.2334 | Episodes: 12809 | Win count: 115 | Win rate: 1.000 | time: 22.51 minutes\n",
      "Epoch: 182/14999 | Loss: 18.2417 | Episodes: 12818 | Win count: 116 | Win rate: 1.000 | time: 22.52 minutes\n",
      "Epoch: 183/14999 | Loss: 18.2610 | Episodes: 12843 | Win count: 117 | Win rate: 1.000 | time: 22.56 minutes\n",
      "Epoch: 184/14999 | Loss: 18.2819 | Episodes: 12870 | Win count: 118 | Win rate: 1.000 | time: 22.61 minutes\n",
      "Epoch: 185/14999 | Loss: 18.2842 | Episodes: 12872 | Win count: 119 | Win rate: 1.000 | time: 22.62 minutes\n",
      "Epoch: 186/14999 | Loss: 18.3076 | Episodes: 12903 | Win count: 120 | Win rate: 1.000 | time: 22.67 minutes\n",
      "Epoch: 187/14999 | Loss: 18.3286 | Episodes: 12926 | Win count: 121 | Win rate: 1.000 | time: 22.71 minutes\n",
      "Epoch: 188/14999 | Loss: 18.3412 | Episodes: 12942 | Win count: 122 | Win rate: 1.000 | time: 22.74 minutes\n",
      "Epoch: 189/14999 | Loss: 18.3425 | Episodes: 12943 | Win count: 123 | Win rate: 1.000 | time: 22.74 minutes\n",
      "Epoch: 190/14999 | Loss: 18.3495 | Episodes: 12951 | Win count: 124 | Win rate: 1.000 | time: 22.76 minutes\n",
      "Epoch: 191/14999 | Loss: 18.3549 | Episodes: 12958 | Win count: 125 | Win rate: 1.000 | time: 22.77 minutes\n",
      "Epoch: 192/14999 | Loss: 18.3596 | Episodes: 12965 | Win count: 126 | Win rate: 1.000 | time: 22.79 minutes\n",
      "Epoch: 193/14999 | Loss: 18.3658 | Episodes: 12973 | Win count: 127 | Win rate: 1.000 | time: 22.80 minutes\n",
      "Epoch: 194/14999 | Loss: 18.3791 | Episodes: 12988 | Win count: 128 | Win rate: 1.000 | time: 22.83 minutes\n",
      "Epoch: 195/14999 | Loss: 18.3893 | Episodes: 13001 | Win count: 129 | Win rate: 1.000 | time: 22.87 minutes\n",
      "Epoch: 196/14999 | Loss: 18.3995 | Episodes: 13013 | Win count: 130 | Win rate: 1.000 | time: 22.89 minutes\n",
      "Epoch: 197/14999 | Loss: 18.4314 | Episodes: 13051 | Win count: 131 | Win rate: 1.000 | time: 22.95 minutes\n",
      "Epoch: 198/14999 | Loss: 18.4547 | Episodes: 13085 | Win count: 132 | Win rate: 1.000 | time: 23.01 minutes\n",
      "Epoch: 199/14999 | Loss: 18.4553 | Episodes: 13086 | Win count: 133 | Win rate: 1.000 | time: 23.02 minutes\n",
      "Epoch: 200/14999 | Loss: 18.4644 | Episodes: 13099 | Win count: 134 | Win rate: 1.000 | time: 23.04 minutes\n",
      "Epoch: 201/14999 | Loss: 18.4727 | Episodes: 13111 | Win count: 135 | Win rate: 1.000 | time: 23.08 minutes\n",
      "Epoch: 202/14999 | Loss: 18.4822 | Episodes: 13128 | Win count: 136 | Win rate: 1.000 | time: 23.11 minutes\n",
      "Epoch: 203/14999 | Loss: 18.4826 | Episodes: 13129 | Win count: 137 | Win rate: 1.000 | time: 23.13 minutes\n",
      "Epoch: 204/14999 | Loss: 18.4880 | Episodes: 13136 | Win count: 138 | Win rate: 1.000 | time: 23.15 minutes\n",
      "Epoch: 205/14999 | Loss: 18.4919 | Episodes: 13141 | Win count: 139 | Win rate: 1.000 | time: 23.17 minutes\n",
      "Epoch: 206/14999 | Loss: 18.4958 | Episodes: 13148 | Win count: 140 | Win rate: 1.000 | time: 23.18 minutes\n",
      "Epoch: 207/14999 | Loss: 18.4965 | Episodes: 13149 | Win count: 141 | Win rate: 1.000 | time: 23.19 minutes\n",
      "Epoch: 208/14999 | Loss: 18.5143 | Episodes: 13174 | Win count: 142 | Win rate: 1.000 | time: 23.23 minutes\n",
      "Epoch: 209/14999 | Loss: 18.5273 | Episodes: 13198 | Win count: 143 | Win rate: 1.000 | time: 23.27 minutes\n",
      "Epoch: 210/14999 | Loss: 18.5320 | Episodes: 13209 | Win count: 144 | Win rate: 1.000 | time: 23.30 minutes\n",
      "Epoch: 211/14999 | Loss: 18.5421 | Episodes: 13226 | Win count: 145 | Win rate: 1.000 | time: 23.34 minutes\n",
      "Epoch: 212/14999 | Loss: 18.5760 | Episodes: 13276 | Win count: 146 | Win rate: 1.000 | time: 23.43 minutes\n",
      "Epoch: 213/14999 | Loss: 18.5776 | Episodes: 13282 | Win count: 147 | Win rate: 1.000 | time: 23.44 minutes\n",
      "Epoch: 214/14999 | Loss: 18.5910 | Episodes: 13307 | Win count: 148 | Win rate: 1.000 | time: 23.48 minutes\n",
      "Epoch: 215/14999 | Loss: 18.5956 | Episodes: 13318 | Win count: 149 | Win rate: 1.000 | time: 23.50 minutes\n",
      "Epoch: 216/14999 | Loss: 18.6057 | Episodes: 13341 | Win count: 150 | Win rate: 1.000 | time: 23.55 minutes\n",
      "Epoch: 217/14999 | Loss: 18.6213 | Episodes: 13371 | Win count: 151 | Win rate: 1.000 | time: 23.59 minutes\n",
      "Epoch: 218/14999 | Loss: 18.6222 | Episodes: 13373 | Win count: 152 | Win rate: 1.000 | time: 23.60 minutes\n",
      "Epoch: 219/14999 | Loss: 18.6292 | Episodes: 13384 | Win count: 153 | Win rate: 1.000 | time: 23.62 minutes\n",
      "Epoch: 220/14999 | Loss: 18.6461 | Episodes: 13417 | Win count: 154 | Win rate: 1.000 | time: 23.67 minutes\n",
      "Epoch: 221/14999 | Loss: 18.6857 | Episodes: 13472 | Win count: 155 | Win rate: 1.000 | time: 23.75 minutes\n",
      "Epoch: 222/14999 | Loss: 18.7032 | Episodes: 13496 | Win count: 156 | Win rate: 1.000 | time: 23.78 minutes\n",
      "Epoch: 223/14999 | Loss: 18.7046 | Episodes: 13497 | Win count: 157 | Win rate: 1.000 | time: 23.78 minutes\n",
      "Epoch: 224/14999 | Loss: 18.7062 | Episodes: 13499 | Win count: 158 | Win rate: 1.000 | time: 23.80 minutes\n",
      "Epoch: 225/14999 | Loss: 18.7425 | Episodes: 13546 | Win count: 159 | Win rate: 1.000 | time: 23.88 minutes\n",
      "Epoch: 226/14999 | Loss: 18.7523 | Episodes: 13567 | Win count: 160 | Win rate: 1.000 | time: 23.92 minutes\n",
      "Epoch: 227/14999 | Loss: 18.7684 | Episodes: 13599 | Win count: 161 | Win rate: 1.000 | time: 23.96 minutes\n",
      "Epoch: 228/14999 | Loss: 18.7769 | Episodes: 13623 | Win count: 162 | Win rate: 1.000 | time: 24.01 minutes\n",
      "Epoch: 229/14999 | Loss: 18.7936 | Episodes: 13654 | Win count: 163 | Win rate: 1.000 | time: 24.08 minutes\n",
      "Epoch: 230/14999 | Loss: 18.8018 | Episodes: 13668 | Win count: 164 | Win rate: 1.000 | time: 24.10 minutes\n",
      "Epoch: 231/14999 | Loss: 18.8219 | Episodes: 13706 | Win count: 165 | Win rate: 1.000 | time: 24.16 minutes\n",
      "Epoch: 232/14999 | Loss: 18.8422 | Episodes: 13740 | Win count: 166 | Win rate: 1.000 | time: 24.21 minutes\n",
      "Epoch: 233/14999 | Loss: 18.8501 | Episodes: 13753 | Win count: 167 | Win rate: 1.000 | time: 24.24 minutes\n",
      "Epoch: 234/14999 | Loss: 18.8557 | Episodes: 13762 | Win count: 168 | Win rate: 1.000 | time: 24.26 minutes\n",
      "Epoch: 235/14999 | Loss: 18.8747 | Episodes: 13790 | Win count: 169 | Win rate: 1.000 | time: 24.32 minutes\n",
      "Epoch: 236/14999 | Loss: 18.8863 | Episodes: 13813 | Win count: 170 | Win rate: 1.000 | time: 24.36 minutes\n",
      "Epoch: 237/14999 | Loss: 18.8947 | Episodes: 13827 | Win count: 171 | Win rate: 1.000 | time: 24.39 minutes\n",
      "Epoch: 238/14999 | Loss: 18.9059 | Episodes: 13844 | Win count: 172 | Win rate: 1.000 | time: 24.41 minutes\n",
      "Epoch: 239/14999 | Loss: 18.9222 | Episodes: 13861 | Win count: 173 | Win rate: 1.000 | time: 24.44 minutes\n",
      "Epoch: 240/14999 | Loss: 18.9394 | Episodes: 13889 | Win count: 174 | Win rate: 1.000 | time: 24.49 minutes\n",
      "Epoch: 241/14999 | Loss: 18.9623 | Episodes: 13939 | Win count: 175 | Win rate: 1.000 | time: 24.56 minutes\n",
      "Epoch: 242/14999 | Loss: 18.9671 | Episodes: 13947 | Win count: 176 | Win rate: 1.000 | time: 24.59 minutes\n",
      "Epoch: 243/14999 | Loss: 18.9741 | Episodes: 13958 | Win count: 177 | Win rate: 1.000 | time: 24.61 minutes\n",
      "Epoch: 244/14999 | Loss: 18.9892 | Episodes: 13983 | Win count: 178 | Win rate: 1.000 | time: 24.64 minutes\n",
      "Epoch: 245/14999 | Loss: 19.0093 | Episodes: 14021 | Win count: 179 | Win rate: 1.000 | time: 24.71 minutes\n",
      "Epoch: 246/14999 | Loss: 19.0255 | Episodes: 14047 | Win count: 180 | Win rate: 1.000 | time: 24.76 minutes\n",
      "Epoch: 247/14999 | Loss: 19.0396 | Episodes: 14077 | Win count: 181 | Win rate: 1.000 | time: 24.81 minutes\n",
      "Epoch: 248/14999 | Loss: 19.0434 | Episodes: 14086 | Win count: 182 | Win rate: 1.000 | time: 24.83 minutes\n",
      "Epoch: 249/14999 | Loss: 19.0446 | Episodes: 14088 | Win count: 183 | Win rate: 1.000 | time: 24.85 minutes\n",
      "Epoch: 250/14999 | Loss: 19.0511 | Episodes: 14103 | Win count: 184 | Win rate: 1.000 | time: 24.87 minutes\n",
      "Epoch: 251/14999 | Loss: 19.0602 | Episodes: 14124 | Win count: 185 | Win rate: 1.000 | time: 24.91 minutes\n",
      "Reached 100% win rate at epoch: 251\n",
      "n_epoch: 251, max_mem: 512, data: 32, time: 24.92 minutes\n"
     ]
    },
    {
     "data": {
      "text/plain": [
       "1495.16815"
      ]
     },
     "execution_count": 55,
     "metadata": {},
     "output_type": "execute_result"
    }
   ],
   "source": [
    "model = build_model(maze)\n",
    "qtrain(model, maze, epochs=1000, max_memory=8*maze.size, data_size=32)"
   ]
  },
  {
   "cell_type": "markdown",
   "metadata": {},
   "source": [
    "This cell will check to see if the model passes the completion check. Note: This could take several minutes."
   ]
  },
  {
   "cell_type": "code",
   "execution_count": 56,
   "metadata": {},
   "outputs": [
    {
     "data": {
      "text/plain": [
       "<matplotlib.image.AxesImage at 0x27736a85c88>"
      ]
     },
     "execution_count": 56,
     "metadata": {},
     "output_type": "execute_result"
    },
    {
     "data": {
      "image/png": "[encoded data removed]",
      "text/plain": [
       "<Figure size 432x288 with 1 Axes>"
      ]
     },
     "metadata": {
      "needs_background": "light"
     },
     "output_type": "display_data"
    }
   ],
   "source": [
    "completion_check(model, qmaze)\n",
    "show(qmaze)"
   ]
  },
  {
   "cell_type": "markdown",
   "metadata": {},
   "source": [
    "This cell will test your model for one game. It will start the pirate at the top-left corner and run play_game. The agent should find a path from the starting position to the target (treasure). The treasure is located in the bottom-right corner."
   ]
  },
  {
   "cell_type": "code",
   "execution_count": 57,
   "metadata": {},
   "outputs": [
    {
     "data": {
      "text/plain": [
       "<matplotlib.image.AxesImage at 0x2773e2d7b08>"
      ]
     },
     "execution_count": 57,
     "metadata": {},
     "output_type": "execute_result"
    },
    {
     "data": {
      "image/png": "[encoded data removed]",
      "text/plain": [
       "<Figure size 432x288 with 1 Axes>"
      ]
     },
     "metadata": {
      "needs_background": "light"
     },
     "output_type": "display_data"
    }
   ],
   "source": [
    "pirate_start = (0, 0)\n",
    "play_game(model, qmaze, pirate_start)\n",
    "show(qmaze)"
   ]
  },
  {
   "cell_type": "markdown",
   "metadata": {},
   "source": [
    "## Save and Submit Your Work\n",
    "After you have finished creating the code for your notebook, save your work. Make sure that your notebook contains your name in the filename (e.g. Doe_Jane_ProjectTwo.ipynb). This will help your instructor access and grade your work easily. Download a copy of your IPYNB file and submit it to Brightspace. Refer to the Jupyter Notebook in Apporto Tutorial if you need help with these tasks."
   ]
  }
 ],
 "metadata": {
  "kernelspec": {
   "display_name": "Python 3",
   "language": "python",
   "name": "python3"
  },
  "language_info": {
   "codemirror_mode": {
    "name": "ipython",
    "version": 3
   },
   "file_extension": ".py",
   "mimetype": "text/x-python",
   "name": "python",
   "nbconvert_exporter": "python",
   "pygments_lexer": "ipython3",
   "version": "3.7.4"
  }
 },
 "nbformat": 4,
 "nbformat_minor": 2
}
